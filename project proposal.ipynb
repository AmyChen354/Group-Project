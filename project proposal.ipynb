{
 "cells": [
  {
   "cell_type": "code",
   "execution_count": 1,
   "metadata": {},
   "outputs": [
    {
     "name": "stderr",
     "output_type": "stream",
     "text": [
      "── \u001b[1mAttaching packages\u001b[22m ─────────────────────────────────────── tidyverse 1.3.0 ──\n",
      "\n",
      "\u001b[32m✔\u001b[39m \u001b[34mggplot2\u001b[39m 3.3.2     \u001b[32m✔\u001b[39m \u001b[34mpurrr  \u001b[39m 0.3.4\n",
      "\u001b[32m✔\u001b[39m \u001b[34mtibble \u001b[39m 3.0.3     \u001b[32m✔\u001b[39m \u001b[34mdplyr  \u001b[39m 1.0.2\n",
      "\u001b[32m✔\u001b[39m \u001b[34mtidyr  \u001b[39m 1.1.2     \u001b[32m✔\u001b[39m \u001b[34mstringr\u001b[39m 1.4.0\n",
      "\u001b[32m✔\u001b[39m \u001b[34mreadr  \u001b[39m 1.3.1     \u001b[32m✔\u001b[39m \u001b[34mforcats\u001b[39m 0.5.0\n",
      "\n",
      "Warning message:\n",
      "“package ‘ggplot2’ was built under R version 4.0.1”\n",
      "Warning message:\n",
      "“package ‘tibble’ was built under R version 4.0.2”\n",
      "Warning message:\n",
      "“package ‘tidyr’ was built under R version 4.0.2”\n",
      "Warning message:\n",
      "“package ‘dplyr’ was built under R version 4.0.2”\n",
      "── \u001b[1mConflicts\u001b[22m ────────────────────────────────────────── tidyverse_conflicts() ──\n",
      "\u001b[31m✖\u001b[39m \u001b[34mdplyr\u001b[39m::\u001b[32mfilter()\u001b[39m masks \u001b[34mstats\u001b[39m::filter()\n",
      "\u001b[31m✖\u001b[39m \u001b[34mdplyr\u001b[39m::\u001b[32mlag()\u001b[39m    masks \u001b[34mstats\u001b[39m::lag()\n",
      "\n",
      "Warning message:\n",
      "“package ‘tidymodels’ was built under R version 4.0.2”\n",
      "── \u001b[1mAttaching packages\u001b[22m ────────────────────────────────────── tidymodels 0.1.1 ──\n",
      "\n",
      "\u001b[32m✔\u001b[39m \u001b[34mbroom    \u001b[39m 0.7.0      \u001b[32m✔\u001b[39m \u001b[34mrecipes  \u001b[39m 0.1.13\n",
      "\u001b[32m✔\u001b[39m \u001b[34mdials    \u001b[39m 0.0.9      \u001b[32m✔\u001b[39m \u001b[34mrsample  \u001b[39m 0.0.7 \n",
      "\u001b[32m✔\u001b[39m \u001b[34minfer    \u001b[39m 0.5.4      \u001b[32m✔\u001b[39m \u001b[34mtune     \u001b[39m 0.1.1 \n",
      "\u001b[32m✔\u001b[39m \u001b[34mmodeldata\u001b[39m 0.0.2      \u001b[32m✔\u001b[39m \u001b[34mworkflows\u001b[39m 0.2.0 \n",
      "\u001b[32m✔\u001b[39m \u001b[34mparsnip  \u001b[39m 0.1.3      \u001b[32m✔\u001b[39m \u001b[34myardstick\u001b[39m 0.0.7 \n",
      "\n",
      "Warning message:\n",
      "“package ‘broom’ was built under R version 4.0.2”\n",
      "Warning message:\n",
      "“package ‘dials’ was built under R version 4.0.2”\n",
      "Warning message:\n",
      "“package ‘infer’ was built under R version 4.0.3”\n",
      "Warning message:\n",
      "“package ‘modeldata’ was built under R version 4.0.1”\n",
      "Warning message:\n",
      "“package ‘parsnip’ was built under R version 4.0.2”\n",
      "Warning message:\n",
      "“package ‘recipes’ was built under R version 4.0.1”\n",
      "Warning message:\n",
      "“package ‘tune’ was built under R version 4.0.2”\n",
      "Warning message:\n",
      "“package ‘workflows’ was built under R version 4.0.2”\n",
      "Warning message:\n",
      "“package ‘yardstick’ was built under R version 4.0.2”\n",
      "── \u001b[1mConflicts\u001b[22m ───────────────────────────────────────── tidymodels_conflicts() ──\n",
      "\u001b[31m✖\u001b[39m \u001b[34mscales\u001b[39m::\u001b[32mdiscard()\u001b[39m masks \u001b[34mpurrr\u001b[39m::discard()\n",
      "\u001b[31m✖\u001b[39m \u001b[34mdplyr\u001b[39m::\u001b[32mfilter()\u001b[39m   masks \u001b[34mstats\u001b[39m::filter()\n",
      "\u001b[31m✖\u001b[39m \u001b[34mrecipes\u001b[39m::\u001b[32mfixed()\u001b[39m  masks \u001b[34mstringr\u001b[39m::fixed()\n",
      "\u001b[31m✖\u001b[39m \u001b[34mdplyr\u001b[39m::\u001b[32mlag()\u001b[39m      masks \u001b[34mstats\u001b[39m::lag()\n",
      "\u001b[31m✖\u001b[39m \u001b[34myardstick\u001b[39m::\u001b[32mspec()\u001b[39m masks \u001b[34mreadr\u001b[39m::spec()\n",
      "\u001b[31m✖\u001b[39m \u001b[34mrecipes\u001b[39m::\u001b[32mstep()\u001b[39m   masks \u001b[34mstats\u001b[39m::step()\n",
      "\n",
      "Warning message:\n",
      "“package ‘rvest’ was built under R version 4.0.2”\n",
      "Loading required package: xml2\n",
      "\n",
      "\n",
      "Attaching package: ‘rvest’\n",
      "\n",
      "\n",
      "The following object is masked from ‘package:purrr’:\n",
      "\n",
      "    pluck\n",
      "\n",
      "\n",
      "The following object is masked from ‘package:readr’:\n",
      "\n",
      "    guess_encoding\n",
      "\n",
      "\n",
      "\n",
      "Attaching package: ‘dbplyr’\n",
      "\n",
      "\n",
      "The following objects are masked from ‘package:dplyr’:\n",
      "\n",
      "    ident, sql\n",
      "\n",
      "\n"
     ]
    }
   ],
   "source": [
    "library(tidyverse)\n",
    "library(repr)\n",
    "library(tidymodels)\n",
    "library(rvest)\n",
    "library(stringr)\n",
    "library(DBI)\n",
    "library(dbplyr)\n",
    "options(repr.matrix.max.rows = 6)"
   ]
  },
  {
   "cell_type": "markdown",
   "metadata": {},
   "source": [
    "Title: Predicting the Categorical Knowledge Level of a User from the Study Time of Electrical DC Machines \n",
    "\n",
    "Introduction: \n",
    "Regular studying, repetition, and testing can help students learn about an Electrical DC Machine effectively. Students, otherwise known as users, can employ various techniques to improve their knowledge level about Electrical DC Machines. These techniques include how much time they spend studying and repeating the goal-oriented materials, as well as their exam performance on these materials. These techniques can also include the study of related materials to Electrical DC Machines. \n",
    "\n",
    "In our study, we ask, \"what will the user's knowledge be based on their study time of goal-oriented and related materials? \n",
    "\n",
    "For this project, we are using the UCI Machine Learning Repository's User Knowledge Modelling Data Set. \n",
    "This data set contains 6 columns, 5 of which are input variables and 1 of which is the target variable (the level of user knowledge). Two of the columns list the users' study time, two other columns list the users' exam performance and the last two describe the degree of repetition used and the users' knowledge level. Each row in this dataset contains the values for each of the 6 variables mentioned."
   ]
  },
  {
   "cell_type": "code",
   "execution_count": 7,
   "metadata": {},
   "outputs": [
    {
     "name": "stderr",
     "output_type": "stream",
     "text": [
      "New names:\n",
      "* `` -> ...7\n",
      "* `` -> ...8\n",
      "\n"
     ]
    },
    {
     "data": {
      "text/html": [
       "<table>\n",
       "<caption>A tibble: 258 × 6</caption>\n",
       "<thead>\n",
       "\t<tr><th scope=col>goal_study_time</th><th scope=col>goal_repetition_number_of_user</th><th scope=col>related_study_time</th><th scope=col>related_exam_performance</th><th scope=col>goal_exam_performance</th><th scope=col>user_knowledge</th></tr>\n",
       "\t<tr><th scope=col>&lt;dbl&gt;</th><th scope=col>&lt;dbl&gt;</th><th scope=col>&lt;dbl&gt;</th><th scope=col>&lt;dbl&gt;</th><th scope=col>&lt;dbl&gt;</th><th scope=col>&lt;chr&gt;</th></tr>\n",
       "</thead>\n",
       "<tbody>\n",
       "\t<tr><td>0.00</td><td>0.00</td><td>0.00</td><td>0.00</td><td>0.00</td><td>very_low</td></tr>\n",
       "\t<tr><td>0.08</td><td>0.08</td><td>0.10</td><td>0.24</td><td>0.90</td><td>High    </td></tr>\n",
       "\t<tr><td>0.06</td><td>0.06</td><td>0.05</td><td>0.25</td><td>0.33</td><td>Low     </td></tr>\n",
       "\t<tr><td>⋮</td><td>⋮</td><td>⋮</td><td>⋮</td><td>⋮</td><td>⋮</td></tr>\n",
       "\t<tr><td>0.54</td><td>0.82</td><td>0.71</td><td>0.29</td><td>0.77</td><td>High  </td></tr>\n",
       "\t<tr><td>0.50</td><td>0.75</td><td>0.81</td><td>0.61</td><td>0.26</td><td>Middle</td></tr>\n",
       "\t<tr><td>0.66</td><td>0.90</td><td>0.76</td><td>0.87</td><td>0.74</td><td>High  </td></tr>\n",
       "</tbody>\n",
       "</table>\n"
      ],
      "text/latex": [
       "A tibble: 258 × 6\n",
       "\\begin{tabular}{llllll}\n",
       " goal\\_study\\_time & goal\\_repetition\\_number\\_of\\_user & related\\_study\\_time & related\\_exam\\_performance & goal\\_exam\\_performance & user\\_knowledge\\\\\n",
       " <dbl> & <dbl> & <dbl> & <dbl> & <dbl> & <chr>\\\\\n",
       "\\hline\n",
       "\t 0.00 & 0.00 & 0.00 & 0.00 & 0.00 & very\\_low\\\\\n",
       "\t 0.08 & 0.08 & 0.10 & 0.24 & 0.90 & High    \\\\\n",
       "\t 0.06 & 0.06 & 0.05 & 0.25 & 0.33 & Low     \\\\\n",
       "\t ⋮ & ⋮ & ⋮ & ⋮ & ⋮ & ⋮\\\\\n",
       "\t 0.54 & 0.82 & 0.71 & 0.29 & 0.77 & High  \\\\\n",
       "\t 0.50 & 0.75 & 0.81 & 0.61 & 0.26 & Middle\\\\\n",
       "\t 0.66 & 0.90 & 0.76 & 0.87 & 0.74 & High  \\\\\n",
       "\\end{tabular}\n"
      ],
      "text/markdown": [
       "\n",
       "A tibble: 258 × 6\n",
       "\n",
       "| goal_study_time &lt;dbl&gt; | goal_repetition_number_of_user &lt;dbl&gt; | related_study_time &lt;dbl&gt; | related_exam_performance &lt;dbl&gt; | goal_exam_performance &lt;dbl&gt; | user_knowledge &lt;chr&gt; |\n",
       "|---|---|---|---|---|---|\n",
       "| 0.00 | 0.00 | 0.00 | 0.00 | 0.00 | very_low |\n",
       "| 0.08 | 0.08 | 0.10 | 0.24 | 0.90 | High     |\n",
       "| 0.06 | 0.06 | 0.05 | 0.25 | 0.33 | Low      |\n",
       "| ⋮ | ⋮ | ⋮ | ⋮ | ⋮ | ⋮ |\n",
       "| 0.54 | 0.82 | 0.71 | 0.29 | 0.77 | High   |\n",
       "| 0.50 | 0.75 | 0.81 | 0.61 | 0.26 | Middle |\n",
       "| 0.66 | 0.90 | 0.76 | 0.87 | 0.74 | High   |\n",
       "\n"
      ],
      "text/plain": [
       "    goal_study_time goal_repetition_number_of_user related_study_time\n",
       "1   0.00            0.00                           0.00              \n",
       "2   0.08            0.08                           0.10              \n",
       "3   0.06            0.06                           0.05              \n",
       "⋮   ⋮               ⋮                              ⋮                 \n",
       "256 0.54            0.82                           0.71              \n",
       "257 0.50            0.75                           0.81              \n",
       "258 0.66            0.90                           0.76              \n",
       "    related_exam_performance goal_exam_performance user_knowledge\n",
       "1   0.00                     0.00                  very_low      \n",
       "2   0.24                     0.90                  High          \n",
       "3   0.25                     0.33                  Low           \n",
       "⋮   ⋮                        ⋮                     ⋮             \n",
       "256 0.29                     0.77                  High          \n",
       "257 0.61                     0.26                  Middle        \n",
       "258 0.87                     0.74                  High          "
      ]
     },
     "metadata": {},
     "output_type": "display_data"
    }
   ],
   "source": [
    "library(readxl)\n",
    "url <- \"https://archive.ics.uci.edu/ml/machine-learning-databases/00257/Data_User_Modeling_Dataset_Hamdi%20Tolga%20KAHRAMAN.xls\"\n",
    "\n",
    "download.file(url, \"data.xls\")\n",
    "training_data <- read_excel(\"data.xls\", sheet = 2) #'sheet = 2' is for training data, 'sheet = 3' is for testing data\n",
    "\n",
    "training_data_tidy <- select(training_data, STG:UNS) %>%\n",
    "rename(\"goal_study_time\" = STG, \"goal_repetition_number_of_user\" = SCG, \"related_study_time\" = STR, \"related_exam_performance\" = LPR, \"goal_exam_performance\" = PEG, \"user_knowledge\" = UNS)\n",
    "\n",
    "training_data_tidy"
   ]
  },
  {
   "cell_type": "code",
   "execution_count": 8,
   "metadata": {},
   "outputs": [
    {
     "name": "stderr",
     "output_type": "stream",
     "text": [
      "New names:\n",
      "* `` -> ...7\n",
      "* `` -> ...8\n",
      "\n"
     ]
    },
    {
     "data": {
      "text/html": [
       "<table>\n",
       "<caption>A tibble: 145 × 6</caption>\n",
       "<thead>\n",
       "\t<tr><th scope=col>goal_study_time</th><th scope=col>goal_repetition_number_of_user</th><th scope=col>related_study_time</th><th scope=col>related_exam_performance</th><th scope=col>goal_exam_performance</th><th scope=col>user_knowledge</th></tr>\n",
       "\t<tr><th scope=col>&lt;dbl&gt;</th><th scope=col>&lt;dbl&gt;</th><th scope=col>&lt;dbl&gt;</th><th scope=col>&lt;dbl&gt;</th><th scope=col>&lt;dbl&gt;</th><th scope=col>&lt;chr&gt;</th></tr>\n",
       "</thead>\n",
       "<tbody>\n",
       "\t<tr><td>0.00</td><td>0.10</td><td>0.50</td><td>0.26</td><td>0.05</td><td>Very Low</td></tr>\n",
       "\t<tr><td>0.05</td><td>0.05</td><td>0.55</td><td>0.60</td><td>0.14</td><td>Low     </td></tr>\n",
       "\t<tr><td>0.08</td><td>0.18</td><td>0.63</td><td>0.60</td><td>0.85</td><td>High    </td></tr>\n",
       "\t<tr><td>⋮</td><td>⋮</td><td>⋮</td><td>⋮</td><td>⋮</td><td>⋮</td></tr>\n",
       "\t<tr><td>0.56</td><td>0.60</td><td>0.77</td><td>0.13</td><td>0.32</td><td>Low   </td></tr>\n",
       "\t<tr><td>0.66</td><td>0.68</td><td>0.81</td><td>0.57</td><td>0.57</td><td>Middle</td></tr>\n",
       "\t<tr><td>0.68</td><td>0.64</td><td>0.79</td><td>0.97</td><td>0.24</td><td>Middle</td></tr>\n",
       "</tbody>\n",
       "</table>\n"
      ],
      "text/latex": [
       "A tibble: 145 × 6\n",
       "\\begin{tabular}{llllll}\n",
       " goal\\_study\\_time & goal\\_repetition\\_number\\_of\\_user & related\\_study\\_time & related\\_exam\\_performance & goal\\_exam\\_performance & user\\_knowledge\\\\\n",
       " <dbl> & <dbl> & <dbl> & <dbl> & <dbl> & <chr>\\\\\n",
       "\\hline\n",
       "\t 0.00 & 0.10 & 0.50 & 0.26 & 0.05 & Very Low\\\\\n",
       "\t 0.05 & 0.05 & 0.55 & 0.60 & 0.14 & Low     \\\\\n",
       "\t 0.08 & 0.18 & 0.63 & 0.60 & 0.85 & High    \\\\\n",
       "\t ⋮ & ⋮ & ⋮ & ⋮ & ⋮ & ⋮\\\\\n",
       "\t 0.56 & 0.60 & 0.77 & 0.13 & 0.32 & Low   \\\\\n",
       "\t 0.66 & 0.68 & 0.81 & 0.57 & 0.57 & Middle\\\\\n",
       "\t 0.68 & 0.64 & 0.79 & 0.97 & 0.24 & Middle\\\\\n",
       "\\end{tabular}\n"
      ],
      "text/markdown": [
       "\n",
       "A tibble: 145 × 6\n",
       "\n",
       "| goal_study_time &lt;dbl&gt; | goal_repetition_number_of_user &lt;dbl&gt; | related_study_time &lt;dbl&gt; | related_exam_performance &lt;dbl&gt; | goal_exam_performance &lt;dbl&gt; | user_knowledge &lt;chr&gt; |\n",
       "|---|---|---|---|---|---|\n",
       "| 0.00 | 0.10 | 0.50 | 0.26 | 0.05 | Very Low |\n",
       "| 0.05 | 0.05 | 0.55 | 0.60 | 0.14 | Low      |\n",
       "| 0.08 | 0.18 | 0.63 | 0.60 | 0.85 | High     |\n",
       "| ⋮ | ⋮ | ⋮ | ⋮ | ⋮ | ⋮ |\n",
       "| 0.56 | 0.60 | 0.77 | 0.13 | 0.32 | Low    |\n",
       "| 0.66 | 0.68 | 0.81 | 0.57 | 0.57 | Middle |\n",
       "| 0.68 | 0.64 | 0.79 | 0.97 | 0.24 | Middle |\n",
       "\n"
      ],
      "text/plain": [
       "    goal_study_time goal_repetition_number_of_user related_study_time\n",
       "1   0.00            0.10                           0.50              \n",
       "2   0.05            0.05                           0.55              \n",
       "3   0.08            0.18                           0.63              \n",
       "⋮   ⋮               ⋮                              ⋮                 \n",
       "143 0.56            0.60                           0.77              \n",
       "144 0.66            0.68                           0.81              \n",
       "145 0.68            0.64                           0.79              \n",
       "    related_exam_performance goal_exam_performance user_knowledge\n",
       "1   0.26                     0.05                  Very Low      \n",
       "2   0.60                     0.14                  Low           \n",
       "3   0.60                     0.85                  High          \n",
       "⋮   ⋮                        ⋮                     ⋮             \n",
       "143 0.13                     0.32                  Low           \n",
       "144 0.57                     0.57                  Middle        \n",
       "145 0.97                     0.24                  Middle        "
      ]
     },
     "metadata": {},
     "output_type": "display_data"
    }
   ],
   "source": [
    "url <- \"https://archive.ics.uci.edu/ml/machine-learning-databases/00257/Data_User_Modeling_Dataset_Hamdi%20Tolga%20KAHRAMAN.xls\"\n",
    "\n",
    "download.file(url, \"data.xls\")\n",
    "testing_data <- read_excel(\"data.xls\", sheet = 3) #'sheet = 3' is for testing data\n",
    "\n",
    "testing_data_tidy <- select(testing_data, STG:UNS) %>%\n",
    "rename(\"goal_study_time\" = STG, \"goal_repetition_number_of_user\" = SCG, \"related_study_time\" = STR, \"related_exam_performance\" = LPR, \"goal_exam_performance\" = PEG, \"user_knowledge\" = UNS)\n",
    "\n",
    "testing_data_tidy"
   ]
  },
  {
   "cell_type": "markdown",
   "metadata": {},
   "source": [
    "Methods:\n",
    "\n",
    "Data Analysis:\n",
    "We will use a K-nearest neighbour classification with cross-validation to conduct our data analysis. We will employ three columns from the data set. Two predictor variables, the study time of the goal object materials and related objects, will be used to predict the users' knowledge level (low, medium, high). \n",
    "\n",
    "Visualization: \n",
    "To visualize our results, we will place the goal-oriented study time on the x-axis and the related study time on the y-axis. The user knowledge category will be colour-coded on the plot with 3 colours encoded into the aesthetics of the scatter plot. \n",
    "\n",
    "Expectations and Impacts: \n",
    "We expect to find that more time spent studying in both study objects, whether it be directly related or indirectly related to Electrical DC Machines, will predict high user knowledge (a positive medium-strength relationship). By finding out the threshold for the amount of time needed to get to a high user knowledge level, other users studying Electrical DC Circuits can be better informed about how much time they need to study. Future questions stemming from this data analysis includes finding out how exam performance or repetition of the different objects affect user knowledge. Additionally, this study can trigger more data collection into the related objects study method to figure out exactly which indirect objects lead to better user knowledge. \n"
   ]
  },
  {
   "cell_type": "code",
   "execution_count": 9,
   "metadata": {},
   "outputs": [
    {
     "name": "stderr",
     "output_type": "stream",
     "text": [
      "`summarise()` ungrouping output (override with `.groups` argument)\n",
      "\n",
      "`summarise()` ungrouping output (override with `.groups` argument)\n",
      "\n"
     ]
    },
    {
     "data": {
      "text/html": [
       "<table>\n",
       "<caption>A tibble: 4 × 3</caption>\n",
       "<thead>\n",
       "\t<tr><th scope=col>user_knowledge</th><th scope=col>n</th><th scope=col>percent</th></tr>\n",
       "\t<tr><th scope=col>&lt;chr&gt;</th><th scope=col>&lt;int&gt;</th><th scope=col>&lt;dbl&gt;</th></tr>\n",
       "</thead>\n",
       "<tbody>\n",
       "\t<tr><td>High    </td><td>63</td><td>24.418605</td></tr>\n",
       "\t<tr><td>Low     </td><td>83</td><td>32.170543</td></tr>\n",
       "\t<tr><td>Middle  </td><td>88</td><td>34.108527</td></tr>\n",
       "\t<tr><td>very_low</td><td>24</td><td> 9.302326</td></tr>\n",
       "</tbody>\n",
       "</table>\n"
      ],
      "text/latex": [
       "A tibble: 4 × 3\n",
       "\\begin{tabular}{lll}\n",
       " user\\_knowledge & n & percent\\\\\n",
       " <chr> & <int> & <dbl>\\\\\n",
       "\\hline\n",
       "\t High     & 63 & 24.418605\\\\\n",
       "\t Low      & 83 & 32.170543\\\\\n",
       "\t Middle   & 88 & 34.108527\\\\\n",
       "\t very\\_low & 24 &  9.302326\\\\\n",
       "\\end{tabular}\n"
      ],
      "text/markdown": [
       "\n",
       "A tibble: 4 × 3\n",
       "\n",
       "| user_knowledge &lt;chr&gt; | n &lt;int&gt; | percent &lt;dbl&gt; |\n",
       "|---|---|---|\n",
       "| High     | 63 | 24.418605 |\n",
       "| Low      | 83 | 32.170543 |\n",
       "| Middle   | 88 | 34.108527 |\n",
       "| very_low | 24 |  9.302326 |\n",
       "\n"
      ],
      "text/plain": [
       "  user_knowledge n  percent  \n",
       "1 High           63 24.418605\n",
       "2 Low            83 32.170543\n",
       "3 Middle         88 34.108527\n",
       "4 very_low       24  9.302326"
      ]
     },
     "metadata": {},
     "output_type": "display_data"
    },
    {
     "data": {
      "text/html": [
       "<table>\n",
       "<caption>A tibble: 4 × 3</caption>\n",
       "<thead>\n",
       "\t<tr><th scope=col>user_knowledge</th><th scope=col>n</th><th scope=col>percent</th></tr>\n",
       "\t<tr><th scope=col>&lt;chr&gt;</th><th scope=col>&lt;int&gt;</th><th scope=col>&lt;dbl&gt;</th></tr>\n",
       "</thead>\n",
       "<tbody>\n",
       "\t<tr><td>High    </td><td>39</td><td>26.89655</td></tr>\n",
       "\t<tr><td>Low     </td><td>46</td><td>31.72414</td></tr>\n",
       "\t<tr><td>Middle  </td><td>34</td><td>23.44828</td></tr>\n",
       "\t<tr><td>Very Low</td><td>26</td><td>17.93103</td></tr>\n",
       "</tbody>\n",
       "</table>\n"
      ],
      "text/latex": [
       "A tibble: 4 × 3\n",
       "\\begin{tabular}{lll}\n",
       " user\\_knowledge & n & percent\\\\\n",
       " <chr> & <int> & <dbl>\\\\\n",
       "\\hline\n",
       "\t High     & 39 & 26.89655\\\\\n",
       "\t Low      & 46 & 31.72414\\\\\n",
       "\t Middle   & 34 & 23.44828\\\\\n",
       "\t Very Low & 26 & 17.93103\\\\\n",
       "\\end{tabular}\n"
      ],
      "text/markdown": [
       "\n",
       "A tibble: 4 × 3\n",
       "\n",
       "| user_knowledge &lt;chr&gt; | n &lt;int&gt; | percent &lt;dbl&gt; |\n",
       "|---|---|---|\n",
       "| High     | 39 | 26.89655 |\n",
       "| Low      | 46 | 31.72414 |\n",
       "| Middle   | 34 | 23.44828 |\n",
       "| Very Low | 26 | 17.93103 |\n",
       "\n"
      ],
      "text/plain": [
       "  user_knowledge n  percent \n",
       "1 High           39 26.89655\n",
       "2 Low            46 31.72414\n",
       "3 Middle         34 23.44828\n",
       "4 Very Low       26 17.93103"
      ]
     },
     "metadata": {},
     "output_type": "display_data"
    }
   ],
   "source": [
    "knowledge_proportions_train <- training_data_tidy %>%\n",
    "group_by(user_knowledge) %>%\n",
    "summarise(n = n()) %>%\n",
    "mutate(percent = 100*n/nrow(training_data_tidy))\n",
    "\n",
    "knowledge_proportions_test <- testing_data_tidy %>%\n",
    "group_by(user_knowledge) %>%\n",
    "summarise(n = n()) %>%\n",
    "mutate(percent = 100*n/nrow(testing_data_tidy))\n",
    "\n",
    "knowledge_proportions_train\n",
    "knowledge_proportions_test"
   ]
  },
  {
   "cell_type": "code",
   "execution_count": 16,
   "metadata": {},
   "outputs": [
    {
     "data": {
      "image/png": "iVBORw0KGgoAAAANSUhEUgAABhgAAASwCAIAAACGoNd8AAAACXBIWXMAABJ0AAASdAHeZh94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\nYII=",
      "text/plain": [
       "plot without title"
      ]
     },
     "metadata": {
      "image/png": {
       "height": 600,
       "width": 780
      }
     },
     "output_type": "display_data"
    }
   ],
   "source": [
    "options(repr.plot.width = 13, repr.plot.height = 10)\n",
    "\n",
    "plot <- ggplot(testing_data_tidy, aes(x = goal_exam_performance, y = related_exam_performance, color = user_knowledge)) + \n",
    "    geom_point() +\n",
    "    labs(x = \"exam performance(goal)\", y = \"exam performance(related)\", color = \"user knowlegde level\") +\n",
    "    theme(text = element_text(size = 20)) + \n",
    "    ggtitle(\"exam performance for goal materials vs. study time for related materials\") \n",
    "\n",
    "plot"
   ]
  },
  {
<<<<<<< HEAD
<<<<<<< HEAD
   "cell_type": "markdown",
<<<<<<< HEAD
   "metadata": {},
   "source": [
    "From the plot above we can see that at where both types of exam performance are low, the user knowledge level are generally very low(purple dots), and the high user knowledge generally exists at area where both types of exam performance are high. Therefore, this illustrates that there is a relationship between both types of exam performance and the level of user knowledge as well as both types of exam performance should be good predictors to predict the level of user knowledge."
   ]
  },
  {
=======
>>>>>>> parent of e9109f6... Find best K-value
   "cell_type": "code",
   "execution_count": null,
   "metadata": {},
<<<<<<< HEAD
   "outputs": [
    {
     "data": {
      "text/plain": [
       "══ Workflow [trained] ══════════════════════════════════════════════════════════\n",
       "\u001b[3mPreprocessor:\u001b[23m Recipe\n",
       "\u001b[3mModel:\u001b[23m nearest_neighbor()\n",
       "\n",
       "── Preprocessor ────────────────────────────────────────────────────────────────\n",
       "2 Recipe Steps\n",
       "\n",
       "● step_scale()\n",
       "● step_center()\n",
       "\n",
       "── Model ───────────────────────────────────────────────────────────────────────\n",
       "\n",
       "Call:\n",
       "kknn::train.kknn(formula = ..y ~ ., data = data, ks = ~2, kernel = ~\"rectangular\")\n",
       "\n",
       "Type of response variable: nominal\n",
       "Minimal misclassification: 0.06589147\n",
       "Best kernel: rectangular\n",
       "Best k: 2"
      ]
     },
     "metadata": {},
     "output_type": "display_data"
    },
    {
     "data": {
      "text/html": [
       "<table>\n",
       "<caption>A tibble: 145 × 7</caption>\n",
       "<thead>\n",
       "\t<tr><th scope=col>.pred_class</th><th scope=col>goal_study_time</th><th scope=col>goal_repetition_number_of_user</th><th scope=col>related_study_time</th><th scope=col>related_exam_performance</th><th scope=col>goal_exam_performance</th><th scope=col>user_knowledge</th></tr>\n",
       "\t<tr><th scope=col>&lt;fct&gt;</th><th scope=col>&lt;dbl&gt;</th><th scope=col>&lt;dbl&gt;</th><th scope=col>&lt;dbl&gt;</th><th scope=col>&lt;dbl&gt;</th><th scope=col>&lt;dbl&gt;</th><th scope=col>&lt;chr&gt;</th></tr>\n",
       "</thead>\n",
       "<tbody>\n",
       "\t<tr><td>very_low</td><td>0.00</td><td>0.10</td><td>0.50</td><td>0.26</td><td>0.05</td><td>Very Low</td></tr>\n",
       "\t<tr><td>Low     </td><td>0.05</td><td>0.05</td><td>0.55</td><td>0.60</td><td>0.14</td><td>Low     </td></tr>\n",
       "\t<tr><td>High    </td><td>0.08</td><td>0.18</td><td>0.63</td><td>0.60</td><td>0.85</td><td>High    </td></tr>\n",
       "\t<tr><td>⋮</td><td>⋮</td><td>⋮</td><td>⋮</td><td>⋮</td><td>⋮</td><td>⋮</td></tr>\n",
       "\t<tr><td>Low   </td><td>0.56</td><td>0.60</td><td>0.77</td><td>0.13</td><td>0.32</td><td>Low   </td></tr>\n",
       "\t<tr><td>Middle</td><td>0.66</td><td>0.68</td><td>0.81</td><td>0.57</td><td>0.57</td><td>Middle</td></tr>\n",
       "\t<tr><td>Low   </td><td>0.68</td><td>0.64</td><td>0.79</td><td>0.97</td><td>0.24</td><td>Middle</td></tr>\n",
       "</tbody>\n",
       "</table>\n"
      ],
      "text/latex": [
       "A tibble: 145 × 7\n",
       "\\begin{tabular}{lllllll}\n",
       " .pred\\_class & goal\\_study\\_time & goal\\_repetition\\_number\\_of\\_user & related\\_study\\_time & related\\_exam\\_performance & goal\\_exam\\_performance & user\\_knowledge\\\\\n",
       " <fct> & <dbl> & <dbl> & <dbl> & <dbl> & <dbl> & <chr>\\\\\n",
       "\\hline\n",
       "\t very\\_low & 0.00 & 0.10 & 0.50 & 0.26 & 0.05 & Very Low\\\\\n",
       "\t Low      & 0.05 & 0.05 & 0.55 & 0.60 & 0.14 & Low     \\\\\n",
       "\t High     & 0.08 & 0.18 & 0.63 & 0.60 & 0.85 & High    \\\\\n",
       "\t ⋮ & ⋮ & ⋮ & ⋮ & ⋮ & ⋮ & ⋮\\\\\n",
       "\t Low    & 0.56 & 0.60 & 0.77 & 0.13 & 0.32 & Low   \\\\\n",
       "\t Middle & 0.66 & 0.68 & 0.81 & 0.57 & 0.57 & Middle\\\\\n",
       "\t Low    & 0.68 & 0.64 & 0.79 & 0.97 & 0.24 & Middle\\\\\n",
       "\\end{tabular}\n"
      ],
      "text/markdown": [
       "\n",
       "A tibble: 145 × 7\n",
       "\n",
       "| .pred_class &lt;fct&gt; | goal_study_time &lt;dbl&gt; | goal_repetition_number_of_user &lt;dbl&gt; | related_study_time &lt;dbl&gt; | related_exam_performance &lt;dbl&gt; | goal_exam_performance &lt;dbl&gt; | user_knowledge &lt;chr&gt; |\n",
       "|---|---|---|---|---|---|---|\n",
       "| very_low | 0.00 | 0.10 | 0.50 | 0.26 | 0.05 | Very Low |\n",
       "| Low      | 0.05 | 0.05 | 0.55 | 0.60 | 0.14 | Low      |\n",
       "| High     | 0.08 | 0.18 | 0.63 | 0.60 | 0.85 | High     |\n",
       "| ⋮ | ⋮ | ⋮ | ⋮ | ⋮ | ⋮ | ⋮ |\n",
       "| Low    | 0.56 | 0.60 | 0.77 | 0.13 | 0.32 | Low    |\n",
       "| Middle | 0.66 | 0.68 | 0.81 | 0.57 | 0.57 | Middle |\n",
       "| Low    | 0.68 | 0.64 | 0.79 | 0.97 | 0.24 | Middle |\n",
       "\n"
      ],
      "text/plain": [
       "    .pred_class goal_study_time goal_repetition_number_of_user\n",
       "1   very_low    0.00            0.10                          \n",
       "2   Low         0.05            0.05                          \n",
       "3   High        0.08            0.18                          \n",
       "⋮   ⋮           ⋮               ⋮                             \n",
       "143 Low         0.56            0.60                          \n",
       "144 Middle      0.66            0.68                          \n",
       "145 Low         0.68            0.64                          \n",
       "    related_study_time related_exam_performance goal_exam_performance\n",
       "1   0.50               0.26                     0.05                 \n",
       "2   0.55               0.60                     0.14                 \n",
       "3   0.63               0.60                     0.85                 \n",
       "⋮   ⋮                  ⋮                        ⋮                    \n",
       "143 0.77               0.13                     0.32                 \n",
       "144 0.81               0.57                     0.57                 \n",
       "145 0.79               0.97                     0.24                 \n",
       "    user_knowledge\n",
       "1   Very Low      \n",
       "2   Low           \n",
       "3   High          \n",
       "⋮   ⋮             \n",
       "143 Low           \n",
       "144 Middle        \n",
       "145 Middle        "
      ]
     },
     "metadata": {},
     "output_type": "display_data"
    },
    {
     "ename": "ERROR",
     "evalue": "Error: `estimate` should be numeric\n",
     "output_type": "error",
     "traceback": [
      "Error: `estimate` should be numeric\nTraceback:\n",
      "1. bestk_predictions %>% metrics(truth = user_knowledge, estimate = .pred_class)",
      "2. withVisible(eval(quote(`_fseq`(`_lhs`)), env, env))",
      "3. eval(quote(`_fseq`(`_lhs`)), env, env)",
      "4. eval(quote(`_fseq`(`_lhs`)), env, env)",
      "5. `_fseq`(`_lhs`)",
      "6. freduce(value, `_function_list`)",
      "7. withVisible(function_list[[k]](value))",
      "8. function_list[[k]](value)",
      "9. metrics(., truth = user_knowledge, estimate = .pred_class)",
      "10. metrics.data.frame(., truth = user_knowledge, estimate = .pred_class)",
      "11. stop(\"`estimate` should be numeric\", call. = FALSE)"
     ]
    }
   ],
   "source": [
    "#Build model with the best K-value\n",
    "\n",
    "set.seed(2)\n",
    "\n",
    "bestk_spec <- nearest_neighbor(weight_func = \"rectangular\", neighbor = 2) %>%\n",
    "set_engine(\"kknn\") %>%\n",
    "set_mode(\"classification\")\n",
    "\n",
    "bestk_fit <- workflow() %>%\n",
    "add_recipe(knowledge_recipe) %>%\n",
    "add_model(bestk_spec) %>%\n",
    "fit(data = training_data_tidy)\n",
    "\n",
    "bestk_fit\n",
    "\n",
    "#Finally, using testing data set to predict\n",
    "\n",
    "bestk_predictions <- predict(bestk_fit, testing_data_tidy) %>%\n",
    "bind_cols(testing_data_tidy)\n",
    "\n",
    "bestk_predictions\n",
    "\n",
    "bestk_metrics <- bestk_predictions %>%\n",
    "metrics(truth = user_knowledge, estimate = .pred_class)\n",
    "\n",
    "bestk_conf_mat <- bestk_predictions %>%\n",
    "conf_mat(truth = user_knowledge, estimate = .pred_class)\n",
    "\n",
    "bestk_conf_mat"
=======
   "metadata": {},
   "source": [
    "Background \n",
    "When students learn the  subject of Electrical DC Machine, they need to spend time on the materials and do exams regularly to consolidate their knowledge to gain a better knowledge level. There are many factors that may affect user knowledge. These factors include:\n",
    "-  STG (The degree of study time for goal object materials)\n",
    "-  SCG (The degree of repetition number of user for goal object materials)\n",
    "-  STR (The degree of study time of user for related objects with goal object)\n",
    "-  LPR (The exam performance of user for related objects with goal object) \n",
    "-  PEG (The exam performance of user for goal objects)\n",
    "\n",
    "The Dataset\n",
    "We are using the “User Knowledge Modeling Data Set”. Each row in this dataset contains the input values, the possible factors that may affect the users’ knowledge(eg. the degree of study time for goal object materials) and the target values(the knowledge level of user).\n"
   ]
=======
   "cell_type": "code",
   "execution_count": null,
   "metadata": {},
   "outputs": [],
   "source": []
>>>>>>> parent of e9109f6... Find best K-value
  },
  {
   "cell_type": "markdown",
   "metadata": {},
   "source": [
    "Methods:\n",
    "Using two variables, related_eaxm_performance and goal_exam_performance, we created a KNN classification model to predict user knowledge level.\n",
    "\n",
    "The KNN classification model will need to be trained, evaluated, and tuned with training and testing sets before predicting the user knowledge. By using KNN classification with cross-validation, we plot the accuracy of K, we find the highest accuracy, that is the K value we want and thus we create a more effective model.\n",
    "\n",
    "\n",
    "Expected outcomes and significance:\n",
    "We expect that the user knowledge will reflect the time students spend on study objects of Electrical DC Machines. If their user knowledge is high, then they tend to spend more time on their study objects. Conversely, lower user knowledge means less time was spent on study objects.  \n",
    "\n",
    "Predicting what affects students’ knowledge towards their study can be useful in understanding how to study efficiently, and offer students a clearer learning direction and thus lead them to spend their limited energy on more worthwhile methods.\n",
    "\n",
    "This analysis could also prompt further questions:\n",
    "- Are there stats not included in the dataset that could improve the effectiveness of the model?\n",
    "- Do certain stats influence user knowledge more, and if so, is there a better weight function to use in the classification engine?\n"
>>>>>>> 95cc397b41cd23d24d6cc4b69e4908cbdf6a3775
   ]
=======
   "outputs": [],
   "source": []
>>>>>>> parent of e9109f6... Find best K-value
  },
  {
   "cell_type": "code",
   "execution_count": null,
   "metadata": {},
   "outputs": [],
   "source": []
  }
 ],
 "metadata": {
  "kernelspec": {
   "display_name": "R",
   "language": "R",
   "name": "ir"
  },
  "language_info": {
   "codemirror_mode": "r",
   "file_extension": ".r",
   "mimetype": "text/x-r-source",
   "name": "R",
   "pygments_lexer": "r",
   "version": "4.0.0"
  }
 },
 "nbformat": 4,
 "nbformat_minor": 4
}
